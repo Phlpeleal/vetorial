{
  "nbformat": 4,
  "nbformat_minor": 0,
  "metadata": {
    "colab": {
      "name": "Copy of 3L - Centro do barramento",
      "provenance": [],
      "include_colab_link": true
    },
    "kernelspec": {
      "name": "python3",
      "display_name": "Python 3"
    }
  },
  "cells": [
    {
      "cell_type": "markdown",
      "metadata": {
        "id": "view-in-github",
        "colab_type": "text"
      },
      "source": [
        "<a href=\"https://colab.research.google.com/github/Phlpeleal/vetorial/blob/Testando/3L.ipynb\" target=\"_parent\"><img src=\"https://colab.research.google.com/assets/colab-badge.svg\" alt=\"Open In Colab\"/></a>"
      ]
    },
    {
      "cell_type": "markdown",
      "metadata": {
        "id": "lWWHmLFFKmap",
        "colab_type": "text"
      },
      "source": [
        "# Programa para estudo do espaço vetorial do primeiro caso"
      ]
    },
    {
      "cell_type": "markdown",
      "metadata": {
        "id": "d4I8GAB1-Hbr",
        "colab_type": "text"
      },
      "source": [
        "Definição do estado das chaves:\n",
        "$q_a$\n",
        "$q_b$\n",
        "$q_h$\n"
      ]
    },
    {
      "cell_type": "code",
      "metadata": {
        "id": "bJVRfDmw8ps4",
        "colab_type": "code",
        "colab": {}
      },
      "source": [
        "qb = [0,1,0,1,0,1,0,1]\n",
        "qa = [0,0,1,1,0,0,1,1]\n",
        "qh = [0,0,0,0,1,1,1,1]"
      ],
      "execution_count": 0,
      "outputs": []
    },
    {
      "cell_type": "markdown",
      "metadata": {
        "id": "kzbJpSD6-SXb",
        "colab_type": "text"
      },
      "source": [
        "Definição das tensões de pólo:\n",
        "$v_{a0}$\n",
        "$v_{b0}$\n",
        "$v_{h0}$"
      ]
    },
    {
      "cell_type": "code",
      "metadata": {
        "id": "o7-H3Zjq-Vjv",
        "colab_type": "code",
        "colab": {}
      },
      "source": [
        "contador = 0\n",
        "va0 = [0,0,0,0,0,0,0,0]\n",
        "vb0 = [0,0,0,0,0,0,0,0]\n",
        "vh0 = [0,0,0,0,0,0,0,0]\n",
        "\n",
        "while (contador <= 7):\n",
        "  if qb[contador] == 1: vb0[contador] = 0.5\n",
        "  else: vb0[contador] = -0.5\n",
        "  if qh[contador] == 1: vh0[contador] = 0.5\n",
        "  else: vh0[contador] = -0.5\n",
        "  if qa[contador] == 1:\n",
        "    if qh[contador] == 1: va0[contador] = 0.5\n",
        "    else: va0[contador] = -0.5\n",
        "  else: \n",
        "    va0[contador] = 0.0\n",
        "  contador = contador + 1"
      ],
      "execution_count": 0,
      "outputs": []
    },
    {
      "cell_type": "markdown",
      "metadata": {
        "id": "4-adg7dSCPOC",
        "colab_type": "text"
      },
      "source": [
        "Definição das tensões de entrada e saída:\n",
        "$v_l$\n",
        "$v_g$"
      ]
    },
    {
      "cell_type": "code",
      "metadata": {
        "id": "eEJm96RIESOX",
        "colab_type": "code",
        "outputId": "1217725c-0565-4358-fd00-b8e9f0bd5452",
        "colab": {
          "base_uri": "https://localhost:8080/",
          "height": 312
        }
      },
      "source": [
        "contador = 0\n",
        "vg = [0,0,0,0,0,0,0,0]\n",
        "vl = [0,0,0,0,0,0,0,0]\n",
        "N = 0.5\n",
        "\n",
        "while (contador <= 7):\n",
        "  vg[contador] = vh0[contador] - vb0[contador]\n",
        "  vl[contador] = va0[contador] - vb0[contador]\n",
        "  contador = contador + 1\n",
        "\n",
        "import matplotlib.pyplot as plt\n",
        "\n",
        "plt.title('Vetores')\n",
        "plt.xlabel('vg')\n",
        "plt.ylabel('vl')\n",
        "plt.grid(True)\n",
        "plt.scatter(vg,vl)"
      ],
      "execution_count": 5,
      "outputs": [
        {
          "output_type": "execute_result",
          "data": {
            "text/plain": [
              "<matplotlib.collections.PathCollection at 0x7f60192955c0>"
            ]
          },
          "metadata": {
            "tags": []
          },
          "execution_count": 5
        },
        {
          "output_type": "display_data",
          "data": {
            "image/png": "[encoded data removed]",
            "text/plain": [
              "<Figure size 432x288 with 1 Axes>"
            ]
          },
          "metadata": {
            "tags": []
          }
        }
      ]
    },
    {
      "cell_type": "code",
      "metadata": {
        "id": "GBfYxkTwr0dM",
        "colab_type": "code",
        "colab": {
          "base_uri": "https://localhost:8080/",
          "height": 153
        },
        "outputId": "8d49ed92-ef0a-4726-c4f8-ab65cb97160b"
      },
      "source": [
        "print('v0:', vg[0], 'e', vl[0])\n",
        "print('v1:', vg[1], 'e', vl[1])\n",
        "print('v2:', vg[2], 'e', vl[2])\n",
        "print('v3:', vg[3], 'e', vl[3])\n",
        "print('v4:', vg[4], 'e', vl[4])\n",
        "print('v5:', vg[5], 'e', vl[5])\n",
        "print('v6:', vg[6], 'e', vl[6])\n",
        "print('v7:', vg[7], 'e', vl[7])"
      ],
      "execution_count": 16,
      "outputs": [
        {
          "output_type": "stream",
          "text": [
            "v0: 0.0 e 0.5\n",
            "v1: -1.0 e -0.5\n",
            "v2: 0.0 e 0.0\n",
            "v3: -1.0 e -1.0\n",
            "v4: 1.0 e 0.5\n",
            "v5: 0.0 e -0.5\n",
            "v6: 1.0 e 1.0\n",
            "v7: 0.0 e 0.0\n"
          ],
          "name": "stdout"
        }
      ]
    },
    {
      "cell_type": "code",
      "metadata": {
        "id": "r9sizAEJ9uFj",
        "colab_type": "code",
        "colab": {
          "base_uri": "https://localhost:8080/",
          "height": 153
        },
        "outputId": "f8723cb7-271d-46a4-949b-82cf4d0c6dc5"
      },
      "source": [
        "print('t0:', qh[0],qa[0],qb[0])\n",
        "print('t1:', qh[1],qa[1],qb[1])\n",
        "print('t2:', qh[2],qa[2],qb[2])\n",
        "print('t3:', qh[3],qa[3],qb[3])\n",
        "print('t4:', qh[4],qa[4],qb[4])\n",
        "print('t5:', qh[5],qa[5],qb[5])\n",
        "print('t6:', qh[6],qa[6],qb[6])\n",
        "print('t7:', qh[7],qa[7],qb[7])"
      ],
      "execution_count": 18,
      "outputs": [
        {
          "output_type": "stream",
          "text": [
            "t0: 0 0 0\n",
            "t1: 0 0 1\n",
            "t2: 0 1 0\n",
            "t3: 0 1 1\n",
            "t4: 1 0 0\n",
            "t5: 1 0 1\n",
            "t6: 1 1 0\n",
            "t7: 1 1 1\n"
          ],
          "name": "stdout"
        }
      ]
    },
    {
      "cell_type": "code",
      "metadata": {
        "id": "z-w2Ao4vGJzp",
        "colab_type": "code",
        "outputId": "d8f40ba2-5d83-4507-f64a-fac40dbc582b",
        "colab": {
          "base_uri": "https://localhost:8080/",
          "height": 312
        }
      },
      "source": [
        "import matplotlib.pyplot as plt\n",
        "\n",
        "plt.title('Vetores')\n",
        "plt.xlabel('vg')\n",
        "plt.ylabel('vl')\n",
        "plt.grid(True)\n",
        "plt.scatter(vg,vl)"
      ],
      "execution_count": 4,
      "outputs": [
        {
          "output_type": "execute_result",
          "data": {
            "text/plain": [
              "<matplotlib.collections.PathCollection at 0x7f60193127f0>"
            ]
          },
          "metadata": {
            "tags": []
          },
          "execution_count": 4
        },
        {
          "output_type": "display_data",
          "data": {
            "image/png": "[encoded data removed]",
            "text/plain": [
              "<Figure size 432x288 with 1 Axes>"
            ]
          },
          "metadata": {
            "tags": []
          }
        }
      ]
    }
  ]
}