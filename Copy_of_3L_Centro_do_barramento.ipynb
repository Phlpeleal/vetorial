{
  "nbformat": 4,
  "nbformat_minor": 0,
  "metadata": {
    "colab": {
      "name": "Copy of 3L - Centro do barramento",
      "provenance": [],
      "include_colab_link": true
    },
    "kernelspec": {
      "name": "python3",
      "display_name": "Python 3"
    }
  },
  "cells": [
    {
      "cell_type": "markdown",
      "metadata": {
        "id": "view-in-github",
        "colab_type": "text"
      },
      "source": [
        "<a href=\"https://colab.research.google.com/github/Phlpeleal/vetorial/blob/readme-edits/Copy_of_3L_Centro_do_barramento.ipynb\" target=\"_parent\"><img src=\"https://colab.research.google.com/assets/colab-badge.svg\" alt=\"Open In Colab\"/></a>"
      ]
    },
    {
      "cell_type": "markdown",
      "metadata": {
        "id": "lWWHmLFFKmap",
        "colab_type": "text"
      },
      "source": [
        "# Programa para estudo do espaço vetorial do primeiro caso"
      ]
    },
    {
      "cell_type": "markdown",
      "metadata": {
        "id": "d4I8GAB1-Hbr",
        "colab_type": "text"
      },
      "source": [
        "Definição do estado das chaves:\n",
        "$q_a$\n",
        "$q_b$\n",
        "$q_h$\n"
      ]
    },
    {
      "cell_type": "code",
      "metadata": {
        "id": "bJVRfDmw8ps4",
        "colab_type": "code",
        "colab": {}
      },
      "source": [
        "qb = [0,1,0,1,0,1,0,1]\n",
        "qa = [0,0,1,1,0,0,1,1]\n",
        "qh = [0,0,0,0,1,1,1,1]"
      ],
      "execution_count": 0,
      "outputs": []
    },
    {
      "cell_type": "markdown",
      "metadata": {
        "id": "kzbJpSD6-SXb",
        "colab_type": "text"
      },
      "source": [
        "Definição das tensões de pólo:\n",
        "$v_{a0}$\n",
        "$v_{b0}$\n",
        "$v_{h0}$"
      ]
    },
    {
      "cell_type": "code",
      "metadata": {
        "id": "o7-H3Zjq-Vjv",
        "colab_type": "code",
        "colab": {}
      },
      "source": [
        "contador = 0\n",
        "va0 = [0,0,0,0,0,0,0,0]\n",
        "vb0 = [0,0,0,0,0,0,0,0]\n",
        "vh0 = [0,0,0,0,0,0,0,0]\n",
        "\n",
        "while (contador <= 7):\n",
        "  if qb[contador] == 1: vb0[contador] = 0.5\n",
        "  else: vb0[contador] = -0.5\n",
        "  if qh[contador] == 1: vh0[contador] = 0.5\n",
        "  else: vh0[contador] = -0.5\n",
        "  if qa[contador] == 1:\n",
        "    if qh[contador] == 1: va0[contador] = 0.5\n",
        "    else: va0[contador] = -0.5\n",
        "  else: \n",
        "    va0[contador] = 0.0\n",
        "  contador = contador + 1"
      ],
      "execution_count": 0,
      "outputs": []
    },
    {
      "cell_type": "markdown",
      "metadata": {
        "id": "4-adg7dSCPOC",
        "colab_type": "text"
      },
      "source": [
        "Definição das tensões de entrada e saída:\n",
        "$v_l$\n",
        "$v_g$"
      ]
    },
    {
      "cell_type": "code",
      "metadata": {
        "id": "eEJm96RIESOX",
        "colab_type": "code",
        "outputId": "131495ba-b889-41f6-edd1-7496cbe3df9a",
        "colab": {
          "base_uri": "https://localhost:8080/",
          "height": 312
        }
      },
      "source": [
        "contador = 0\n",
        "vg = [0,0,0,0,0,0,0,0]\n",
        "vl = [0,0,0,0,0,0,0,0]\n",
        "N = 0.5\n",
        "\n",
        "while (contador <= 7):\n",
        "  vg[contador] = N*(vh0[contador] - vb0[contador]) + vh0[contador] - va0[contador]\n",
        "  vl[contador] = vb0[contador] - va0[contador]\n",
        "  contador = contador + 1\n",
        "\n",
        "import matplotlib.pyplot as plt\n",
        "\n",
        "plt.title('Vetores')\n",
        "plt.xlabel('vg')\n",
        "plt.ylabel('vl')\n",
        "plt.grid(True)\n",
        "plt.scatter(vg,vl)"
      ],
      "execution_count": 0,
      "outputs": [
        {
          "output_type": "execute_result",
          "data": {
            "text/plain": [
              "<matplotlib.collections.PathCollection at 0x7f4c03e8b240>"
            ]
          },
          "metadata": {
            "tags": []
          },
          "execution_count": 27
        },
        {
          "output_type": "display_data",
          "data": {
            "image/png": "[encoded data removed]",
            "text/plain": [
              "<Figure size 432x288 with 1 Axes>"
            ]
          },
          "metadata": {
            "tags": []
          }
        }
      ]
    },
    {
      "cell_type": "code",
      "metadata": {
        "id": "z-w2Ao4vGJzp",
        "colab_type": "code",
        "outputId": "99113883-af42-4ef2-ecd3-c916b2eca6b5",
        "colab": {
          "base_uri": "https://localhost:8080/",
          "height": 312
        }
      },
      "source": [
        "import matplotlib.pyplot as plt\n",
        "\n",
        "plt.title('Vetores')\n",
        "plt.xlabel('vg')\n",
        "plt.ylabel('vl')\n",
        "plt.grid(True)\n",
        "plt.scatter(vg,vl)"
      ],
      "execution_count": 0,
      "outputs": [
        {
          "output_type": "execute_result",
          "data": {
            "text/plain": [
              "<matplotlib.collections.PathCollection at 0x7f4c04896a58>"
            ]
          },
          "metadata": {
            "tags": []
          },
          "execution_count": 5
        },
        {
          "output_type": "display_data",
          "data": {
            "image/png": "[encoded data removed]",
            "text/plain": [
              "<Figure size 432x288 with 1 Axes>"
            ]
          },
          "metadata": {
            "tags": []
          }
        }
      ]
    }
  ]
}